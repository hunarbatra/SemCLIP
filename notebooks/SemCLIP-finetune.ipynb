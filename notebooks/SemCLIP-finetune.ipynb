{
 "cells": [
  {
   "cell_type": "code",
   "execution_count": 1,
   "metadata": {},
   "outputs": [
    {
     "name": "stdout",
     "output_type": "stream",
     "text": [
      "/scratch/hb2546/dphil-svt/SemCLIP\n"
     ]
    }
   ],
   "source": [
    "%cd .."
   ]
  },
  {
   "cell_type": "code",
   "execution_count": 2,
   "metadata": {
    "scrolled": true
   },
   "outputs": [],
   "source": [
    "# !pip3 install -r requirements.txt\n",
    "# !pip3 install supervision torch tqdm fire datasets opencv-python openai-clip huggingface-hub torch python-dotenv clip torchvision Pillow pandas numpy matplotlib transformers\n",
    "# !pip install --upgrade notebook\n",
    "# !pip install --upgrade ipywidgets\n",
    "# !jupyter nbextension enable --py widgetsnbextension"
   ]
  },
  {
   "cell_type": "code",
   "execution_count": 3,
   "metadata": {},
   "outputs": [],
   "source": [
    "# !bash sam_model_setup.sh\n",
    "# !pip3 install -q 'git+https://github.com/facebookresearch/segment-anything.git'"
   ]
  },
  {
   "cell_type": "code",
   "execution_count": 2,
   "metadata": {
    "scrolled": true
   },
   "outputs": [
    {
     "name": "stderr",
     "output_type": "stream",
     "text": [
      "FutureWarning: `resume_download` is deprecated and will be removed in version 1.0.0. Downloads always resume when possible. If you want to force a new download, use `force_download=True`.\n"
     ]
    }
   ],
   "source": [
    "from SemCLIP.semclip import SemCLIP\n",
    "from SemCLIP.image_utils import DEVICE, create_batches, pil_to_cv2\n",
    "from SemCLIP.model_utils import convert_models_to_fp32, convert_models_to_fp16\n",
    "\n",
    "\n",
    "semclip = SemCLIP(model_name=\"openai/clip-vit-base-patch32\", pool_type='attention', projection_dim=512, device=DEVICE)"
   ]
  },
  {
   "cell_type": "code",
   "execution_count": 3,
   "metadata": {},
   "outputs": [],
   "source": [
    "import torch\n",
    "\n",
    "from torch.utils.data import Dataset, DataLoader\n",
    "from datasets import load_dataset\n",
    "\n",
    "dataset = load_dataset(\"hunarbatra/CLIP-LLaVA-Instruct-COCO-13k\")"
   ]
  },
  {
   "cell_type": "markdown",
   "metadata": {},
   "source": [
    "## Download Data Files Locally [Not required to run]"
   ]
  },
  {
   "cell_type": "code",
   "execution_count": 17,
   "metadata": {},
   "outputs": [
    {
     "data": {
      "application/vnd.jupyter.widget-view+json": {
       "model_id": "76e027d9a587486d9a2db86aa44b7635",
       "version_major": 2,
       "version_minor": 0
      },
      "text/plain": [
       "Map (num_proc=8):   0%|          | 0/13430 [00:00<?, ? examples/s]"
      ]
     },
     "metadata": {},
     "output_type": "display_data"
    },
    {
     "data": {
      "application/vnd.jupyter.widget-view+json": {
       "model_id": "cda86b98f1a44d08bc93091ca1f112e2",
       "version_major": 2,
       "version_minor": 0
      },
      "text/plain": [
       "Map (num_proc=8):   0%|          | 0/3365 [00:00<?, ? examples/s]"
      ]
     },
     "metadata": {},
     "output_type": "display_data"
    }
   ],
   "source": [
    "import os\n",
    "import requests\n",
    "from datasets import load_dataset\n",
    "\n",
    "\n",
    "dataset = load_dataset(\"hunarbatra/CLIP-LLaVA-Instruct-COCO-13k\")\n",
    "dataset = dataset.remove_columns(\"downloaded_img\")\n",
    "\n",
    "save_dir = \"data/CLIP-LLaVA-Instruct-COCO-13k/\"\n",
    "\n",
    "os.makedirs(save_dir, exist_ok=True)\n",
    "\n",
    "def download_image(record):\n",
    "    url = record['coco_url']\n",
    "    file_name = os.path.join(save_dir, f\"{record['image']}\")\n",
    "    try:\n",
    "        response = requests.get(url, stream=True)\n",
    "        if response.status_code == 200:\n",
    "            with open(file_name, 'wb') as f:\n",
    "                for chunk in response.iter_content(1024):\n",
    "                    f.write(chunk)\n",
    "        record['local_path'] = file_name\n",
    "    except Exception as e:\n",
    "        print(f\"Failed to download {url}: {e}\")\n",
    "        record['local_path'] = None\n",
    "    return record\n",
    "\n",
    "dataset = dataset.map(download_image, num_proc=8)\n",
    "\n",
    "# dataset.save_to_disk(\"CLIP-LLaVA-Instruct-COCO-13k-no-img\")\n"
   ]
  },
  {
   "cell_type": "markdown",
   "metadata": {},
   "source": [
    "## Finetune Model with local data/ [Not required to run - only if data/ files are local]"
   ]
  },
  {
   "cell_type": "code",
   "execution_count": null,
   "metadata": {},
   "outputs": [],
   "source": [
    "import cv2\n",
    "import numpy as np\n",
    "import torch\n",
    "import torch.nn as nn\n",
    "from tqdm import tqdm\n",
    "from PIL import Image\n",
    "\n",
    "\n",
    "semclip.model.to(DEVICE)\n",
    "\n",
    "if DEVICE == \"cpu\":\n",
    "    semclip.model.float() # convert the model params to float if using CPU\n",
    "\n",
    "optimizer = torch.optim.Adam(semclip.model.parameters(), lr=1e-5)\n",
    "\n",
    "loss = torch.nn.CrossEntropyLoss()\n",
    "\n",
    "# Training loop\n",
    "num_epochs = 1\n",
    "batch_size = 64\n",
    "data_dir = 'CLIP-LLaVA-Instruct-COCO-13k'\n",
    "\n",
    "for epoch in range(num_epochs):\n",
    "    semclip.model.train()\n",
    "    train_loader = create_batches(dataset['train'], batch_size)\n",
    "    \n",
    "    pbar = tqdm(train_loader, total=len(dataset['train']) // batch_size, desc=f\"Epoch {epoch+1}/{num_epochs}\")\n",
    "\n",
    "    for batch in pbar:\n",
    "        optimizer.zero_grad()\n",
    "        \n",
    "        image_batch = batch['image']\n",
    "        text_batch = batch['caption']\n",
    "        \n",
    "        if DEVICE != \"cpu\":\n",
    "            convert_models_to_fp32(semclip.model)\n",
    "            \n",
    "        # Forward pass through the model\n",
    "        logits_per_image, logits_per_text = semclip.get_semclip_embeddings(images=image_batch, captions=text_batch, images_folder=data_dir)\n",
    "            \n",
    "        # Compute the loss\n",
    "        ground_truth = torch.arange(len(image_batch), dtype=torch.long).to(DEVICE)\n",
    "        logits_per_image.requires_grad_()\n",
    "        logits_per_text.requires_grad_()\n",
    "        total_loss = (loss(logits_per_image, ground_truth) + loss(logits_per_text, ground_truth)) / 2\n",
    "\n",
    "        # Backward pass\n",
    "        total_loss.backward()\n",
    "        \n",
    "        # if the device is CPU, directly update the model\n",
    "        if DEVICE == \"cpu\":\n",
    "            optimizer.step()\n",
    "            scheduler.step()\n",
    "        else:\n",
    "            convert_models_to_fp32(semclip.model)\n",
    "            optimizer.step()\n",
    "            scheduler.step()\n",
    "            convert_models_to_fp16(semclip.model)\n",
    "        \n",
    "        # Update the progress bar with the current loss\n",
    "        pbar.set_postfix(Loss=total_loss.item())"
   ]
  },
  {
   "cell_type": "markdown",
   "metadata": {},
   "source": [
    "## Finetune Model without downloading images locally [with HF data]"
   ]
  },
  {
   "cell_type": "code",
   "execution_count": 8,
   "metadata": {},
   "outputs": [
    {
     "name": "stderr",
     "output_type": "stream",
     "text": [
      "Epoch 1/1:   0%|          | 0/419 [00:00<?, ?it/s]"
     ]
    },
    {
     "name": "stdout",
     "output_type": "stream",
     "text": [
      "0\n",
      "1\n",
      "2\n",
      "3\n",
      "4\n",
      "5\n",
      "6\n",
      "7\n",
      "8\n",
      "9\n",
      "10\n",
      "11\n",
      "12\n",
      "13\n",
      "14\n",
      "15\n",
      "16\n",
      "17\n",
      "18\n",
      "19\n",
      "20\n",
      "21\n",
      "22\n",
      "23\n",
      "24\n",
      "25\n",
      "26\n",
      "27\n",
      "28\n",
      "29\n",
      "30\n",
      "31\n"
     ]
    },
    {
     "name": "stderr",
     "output_type": "stream",
     "text": [
      "Epoch 1/1:   0%|          | 1/419 [01:32<10:42:31, 92.23s/it, Loss=6.27]"
     ]
    },
    {
     "name": "stdout",
     "output_type": "stream",
     "text": [
      "0\n",
      "1\n",
      "2\n",
      "3\n",
      "4\n",
      "5\n",
      "6\n",
      "7\n",
      "8\n",
      "9\n",
      "10\n",
      "11\n"
     ]
    },
    {
     "name": "stderr",
     "output_type": "stream",
     "text": [
      "Epoch 1/1:   0%|          | 1/419 [02:04<14:27:41, 124.55s/it, Loss=6.27]\n"
     ]
    },
    {
     "ename": "KeyboardInterrupt",
     "evalue": "",
     "output_type": "error",
     "traceback": [
      "\u001b[0;31m---------------------------------------------------------------------------\u001b[0m",
      "\u001b[0;31mKeyboardInterrupt\u001b[0m                         Traceback (most recent call last)",
      "Cell \u001b[0;32mIn[8], line 47\u001b[0m\n\u001b[1;32m     44\u001b[0m     convert_models_to_fp32(semclip\u001b[38;5;241m.\u001b[39mmodel)\n\u001b[1;32m     46\u001b[0m \u001b[38;5;66;03m# Forward pass through the model\u001b[39;00m\n\u001b[0;32m---> 47\u001b[0m logits_per_image, logits_per_text \u001b[38;5;241m=\u001b[39m semclip\u001b[38;5;241m.\u001b[39mget_semclip_embeddings_direct_img(images\u001b[38;5;241m=\u001b[39mimage_batch_cv2, captions\u001b[38;5;241m=\u001b[39mtext_batch)\n\u001b[1;32m     49\u001b[0m \u001b[38;5;66;03m# Compute the loss\u001b[39;00m\n\u001b[1;32m     50\u001b[0m ground_truth \u001b[38;5;241m=\u001b[39m torch\u001b[38;5;241m.\u001b[39marange(batch_size)\u001b[38;5;241m.\u001b[39mto(DEVICE)\n",
      "File \u001b[0;32m/scratch/hb2546/dphil-svt/SemCLIP/SemCLIP/semclip.py:183\u001b[0m, in \u001b[0;36mSemCLIP.get_semclip_embeddings_direct_img\u001b[0;34m(self, images, captions)\u001b[0m\n\u001b[1;32m    181\u001b[0m ctr \u001b[38;5;241m+\u001b[39m\u001b[38;5;241m=\u001b[39m \u001b[38;5;241m1\u001b[39m\n\u001b[1;32m    182\u001b[0m \u001b[38;5;66;03m# Assuming get_segment_embeddings and get_text_embeddings expect a single input\u001b[39;00m\n\u001b[0;32m--> 183\u001b[0m image_embedding \u001b[38;5;241m=\u001b[39m \u001b[38;5;28mself\u001b[39m\u001b[38;5;241m.\u001b[39mget_segment_embeddings(image_name\u001b[38;5;241m=\u001b[39m\u001b[38;5;28;01mNone\u001b[39;00m, data_name\u001b[38;5;241m=\u001b[39m\u001b[38;5;28;01mNone\u001b[39;00m, image_file\u001b[38;5;241m=\u001b[39mimage)\n\u001b[1;32m    184\u001b[0m text_embedding \u001b[38;5;241m=\u001b[39m \u001b[38;5;28mself\u001b[39m\u001b[38;5;241m.\u001b[39mget_text_embeddings(text\u001b[38;5;241m=\u001b[39mcaption)\n\u001b[1;32m    186\u001b[0m image_embeddings\u001b[38;5;241m.\u001b[39mappend(image_embedding)\n",
      "File \u001b[0;32m/scratch/hb2546/dphil-svt/SemCLIP/SemCLIP/semclip.py:44\u001b[0m, in \u001b[0;36mSemCLIP.get_segment_embeddings\u001b[0;34m(self, image_name, data_name, image_file)\u001b[0m\n\u001b[1;32m     42\u001b[0m \u001b[38;5;28;01mdef\u001b[39;00m \u001b[38;5;21mget_segment_embeddings\u001b[39m(\u001b[38;5;28mself\u001b[39m, image_name: \u001b[38;5;28mstr\u001b[39m, data_name: \u001b[38;5;28mstr\u001b[39m, image_file: Optional[np\u001b[38;5;241m.\u001b[39mndarray] \u001b[38;5;241m=\u001b[39m \u001b[38;5;28;01mNone\u001b[39;00m):\n\u001b[1;32m     43\u001b[0m     \u001b[38;5;66;03m# Load image segments patches\u001b[39;00m\n\u001b[0;32m---> 44\u001b[0m     image_resized_patches, normalized_bbox_coords \u001b[38;5;241m=\u001b[39m preprocess_patches(image_name, data_name, image_file\u001b[38;5;241m=\u001b[39mimage_file)\n\u001b[1;32m     45\u001b[0m     image_resized_patches \u001b[38;5;241m=\u001b[39m convert_patches_to_pixel_values(image_resized_patches, patch_size\u001b[38;5;241m=\u001b[39m\u001b[38;5;28mself\u001b[39m\u001b[38;5;241m.\u001b[39mvision_config\u001b[38;5;241m.\u001b[39mpatch_size, patch_processor\u001b[38;5;241m=\u001b[39m\u001b[38;5;28mself\u001b[39m\u001b[38;5;241m.\u001b[39mpatch_processor)\n\u001b[1;32m     47\u001b[0m     \u001b[38;5;66;03m# Pass image patches through custom CLIPVisionEmbeddings module\u001b[39;00m\n",
      "File \u001b[0;32m/scratch/hb2546/dphil-svt/SemCLIP/SemCLIP/semclip_tokenization.py:156\u001b[0m, in \u001b[0;36mpreprocess_patches\u001b[0;34m(image_name, data_name, save_crops, image_file)\u001b[0m\n\u001b[1;32m    154\u001b[0m \u001b[38;5;66;03m# SAM automated mask generation\u001b[39;00m\n\u001b[1;32m    155\u001b[0m mask_generator \u001b[38;5;241m=\u001b[39m SamAutomaticMaskGenerator(sam)\n\u001b[0;32m--> 156\u001b[0m sam_result \u001b[38;5;241m=\u001b[39m mask_generator\u001b[38;5;241m.\u001b[39mgenerate(image_rgb)\n\u001b[1;32m    158\u001b[0m \u001b[38;5;66;03m# Extract bounding boxes coordinates for positional embeddings from the SAM result\u001b[39;00m\n\u001b[1;32m    159\u001b[0m bboxes \u001b[38;5;241m=\u001b[39m [mask[\u001b[38;5;124m'\u001b[39m\u001b[38;5;124mbbox\u001b[39m\u001b[38;5;124m'\u001b[39m] \u001b[38;5;28;01mfor\u001b[39;00m mask \u001b[38;5;129;01min\u001b[39;00m sam_result]\n",
      "File \u001b[0;32m~/.local/lib/python3.11/site-packages/torch/utils/_contextlib.py:115\u001b[0m, in \u001b[0;36mcontext_decorator.<locals>.decorate_context\u001b[0;34m(*args, **kwargs)\u001b[0m\n\u001b[1;32m    112\u001b[0m \u001b[38;5;129m@functools\u001b[39m\u001b[38;5;241m.\u001b[39mwraps(func)\n\u001b[1;32m    113\u001b[0m \u001b[38;5;28;01mdef\u001b[39;00m \u001b[38;5;21mdecorate_context\u001b[39m(\u001b[38;5;241m*\u001b[39margs, \u001b[38;5;241m*\u001b[39m\u001b[38;5;241m*\u001b[39mkwargs):\n\u001b[1;32m    114\u001b[0m     \u001b[38;5;28;01mwith\u001b[39;00m ctx_factory():\n\u001b[0;32m--> 115\u001b[0m         \u001b[38;5;28;01mreturn\u001b[39;00m func(\u001b[38;5;241m*\u001b[39margs, \u001b[38;5;241m*\u001b[39m\u001b[38;5;241m*\u001b[39mkwargs)\n",
      "File \u001b[0;32m~/.local/lib/python3.11/site-packages/segment_anything/automatic_mask_generator.py:163\u001b[0m, in \u001b[0;36mSamAutomaticMaskGenerator.generate\u001b[0;34m(self, image)\u001b[0m\n\u001b[1;32m    138\u001b[0m \u001b[38;5;250m\u001b[39m\u001b[38;5;124;03m\"\"\"\u001b[39;00m\n\u001b[1;32m    139\u001b[0m \u001b[38;5;124;03mGenerates masks for the given image.\u001b[39;00m\n\u001b[1;32m    140\u001b[0m \n\u001b[0;32m   (...)\u001b[0m\n\u001b[1;32m    159\u001b[0m \u001b[38;5;124;03m         the mask, given in XYWH format.\u001b[39;00m\n\u001b[1;32m    160\u001b[0m \u001b[38;5;124;03m\"\"\"\u001b[39;00m\n\u001b[1;32m    162\u001b[0m \u001b[38;5;66;03m# Generate masks\u001b[39;00m\n\u001b[0;32m--> 163\u001b[0m mask_data \u001b[38;5;241m=\u001b[39m \u001b[38;5;28mself\u001b[39m\u001b[38;5;241m.\u001b[39m_generate_masks(image)\n\u001b[1;32m    165\u001b[0m \u001b[38;5;66;03m# Filter small disconnected regions and holes in masks\u001b[39;00m\n\u001b[1;32m    166\u001b[0m \u001b[38;5;28;01mif\u001b[39;00m \u001b[38;5;28mself\u001b[39m\u001b[38;5;241m.\u001b[39mmin_mask_region_area \u001b[38;5;241m>\u001b[39m \u001b[38;5;241m0\u001b[39m:\n",
      "File \u001b[0;32m~/.local/lib/python3.11/site-packages/segment_anything/automatic_mask_generator.py:206\u001b[0m, in \u001b[0;36mSamAutomaticMaskGenerator._generate_masks\u001b[0;34m(self, image)\u001b[0m\n\u001b[1;32m    204\u001b[0m data \u001b[38;5;241m=\u001b[39m MaskData()\n\u001b[1;32m    205\u001b[0m \u001b[38;5;28;01mfor\u001b[39;00m crop_box, layer_idx \u001b[38;5;129;01min\u001b[39;00m \u001b[38;5;28mzip\u001b[39m(crop_boxes, layer_idxs):\n\u001b[0;32m--> 206\u001b[0m     crop_data \u001b[38;5;241m=\u001b[39m \u001b[38;5;28mself\u001b[39m\u001b[38;5;241m.\u001b[39m_process_crop(image, crop_box, layer_idx, orig_size)\n\u001b[1;32m    207\u001b[0m     data\u001b[38;5;241m.\u001b[39mcat(crop_data)\n\u001b[1;32m    209\u001b[0m \u001b[38;5;66;03m# Remove duplicate masks between crops\u001b[39;00m\n",
      "File \u001b[0;32m~/.local/lib/python3.11/site-packages/segment_anything/automatic_mask_generator.py:245\u001b[0m, in \u001b[0;36mSamAutomaticMaskGenerator._process_crop\u001b[0;34m(self, image, crop_box, crop_layer_idx, orig_size)\u001b[0m\n\u001b[1;32m    243\u001b[0m data \u001b[38;5;241m=\u001b[39m MaskData()\n\u001b[1;32m    244\u001b[0m \u001b[38;5;28;01mfor\u001b[39;00m (points,) \u001b[38;5;129;01min\u001b[39;00m batch_iterator(\u001b[38;5;28mself\u001b[39m\u001b[38;5;241m.\u001b[39mpoints_per_batch, points_for_image):\n\u001b[0;32m--> 245\u001b[0m     batch_data \u001b[38;5;241m=\u001b[39m \u001b[38;5;28mself\u001b[39m\u001b[38;5;241m.\u001b[39m_process_batch(points, cropped_im_size, crop_box, orig_size)\n\u001b[1;32m    246\u001b[0m     data\u001b[38;5;241m.\u001b[39mcat(batch_data)\n\u001b[1;32m    247\u001b[0m     \u001b[38;5;28;01mdel\u001b[39;00m batch_data\n",
      "File \u001b[0;32m~/.local/lib/python3.11/site-packages/segment_anything/automatic_mask_generator.py:297\u001b[0m, in \u001b[0;36mSamAutomaticMaskGenerator._process_batch\u001b[0;34m(self, points, im_size, crop_box, orig_size)\u001b[0m\n\u001b[1;32m    295\u001b[0m \u001b[38;5;28;01mif\u001b[39;00m \u001b[38;5;28mself\u001b[39m\u001b[38;5;241m.\u001b[39mpred_iou_thresh \u001b[38;5;241m>\u001b[39m \u001b[38;5;241m0.0\u001b[39m:\n\u001b[1;32m    296\u001b[0m     keep_mask \u001b[38;5;241m=\u001b[39m data[\u001b[38;5;124m\"\u001b[39m\u001b[38;5;124miou_preds\u001b[39m\u001b[38;5;124m\"\u001b[39m] \u001b[38;5;241m>\u001b[39m \u001b[38;5;28mself\u001b[39m\u001b[38;5;241m.\u001b[39mpred_iou_thresh\n\u001b[0;32m--> 297\u001b[0m     data\u001b[38;5;241m.\u001b[39mfilter(keep_mask)\n\u001b[1;32m    299\u001b[0m \u001b[38;5;66;03m# Calculate stability score\u001b[39;00m\n\u001b[1;32m    300\u001b[0m data[\u001b[38;5;124m\"\u001b[39m\u001b[38;5;124mstability_score\u001b[39m\u001b[38;5;124m\"\u001b[39m] \u001b[38;5;241m=\u001b[39m calculate_stability_score(\n\u001b[1;32m    301\u001b[0m     data[\u001b[38;5;124m\"\u001b[39m\u001b[38;5;124mmasks\u001b[39m\u001b[38;5;124m\"\u001b[39m], \u001b[38;5;28mself\u001b[39m\u001b[38;5;241m.\u001b[39mpredictor\u001b[38;5;241m.\u001b[39mmodel\u001b[38;5;241m.\u001b[39mmask_threshold, \u001b[38;5;28mself\u001b[39m\u001b[38;5;241m.\u001b[39mstability_score_offset\n\u001b[1;32m    302\u001b[0m )\n",
      "File \u001b[0;32m~/.local/lib/python3.11/site-packages/segment_anything/utils/amg.py:49\u001b[0m, in \u001b[0;36mMaskData.filter\u001b[0;34m(self, keep)\u001b[0m\n\u001b[1;32m     47\u001b[0m     \u001b[38;5;28mself\u001b[39m\u001b[38;5;241m.\u001b[39m_stats[k] \u001b[38;5;241m=\u001b[39m \u001b[38;5;28;01mNone\u001b[39;00m\n\u001b[1;32m     48\u001b[0m \u001b[38;5;28;01melif\u001b[39;00m \u001b[38;5;28misinstance\u001b[39m(v, torch\u001b[38;5;241m.\u001b[39mTensor):\n\u001b[0;32m---> 49\u001b[0m     \u001b[38;5;28mself\u001b[39m\u001b[38;5;241m.\u001b[39m_stats[k] \u001b[38;5;241m=\u001b[39m v[torch\u001b[38;5;241m.\u001b[39mas_tensor(keep, device\u001b[38;5;241m=\u001b[39mv\u001b[38;5;241m.\u001b[39mdevice)]\n\u001b[1;32m     50\u001b[0m \u001b[38;5;28;01melif\u001b[39;00m \u001b[38;5;28misinstance\u001b[39m(v, np\u001b[38;5;241m.\u001b[39mndarray):\n\u001b[1;32m     51\u001b[0m     \u001b[38;5;28mself\u001b[39m\u001b[38;5;241m.\u001b[39m_stats[k] \u001b[38;5;241m=\u001b[39m v[keep\u001b[38;5;241m.\u001b[39mdetach()\u001b[38;5;241m.\u001b[39mcpu()\u001b[38;5;241m.\u001b[39mnumpy()]\n",
      "\u001b[0;31mKeyboardInterrupt\u001b[0m: "
     ]
    }
   ],
   "source": [
    "import cv2\n",
    "import numpy as np\n",
    "import torch\n",
    "\n",
    "import torch.nn as nn\n",
    "\n",
    "from tqdm import tqdm\n",
    "from PIL import Image\n",
    "\n",
    "\n",
    "semclip.model.to(DEVICE)\n",
    "\n",
    "if DEVICE == \"cpu\":\n",
    "    semclip.model.float() # convert the model params to float if using CPU\n",
    "\n",
    "# optimizer = torch.optim.AdamW(semclip.model.parameters(), lr=5e-5, betas=(0.9, 0.98), eps=1e-6, weight_decay=0.2) # weight decay adds L2 regularization to the optimizer\n",
    "optimizer = torch.optim.Adam(semclip.model.parameters(), lr=1e-5)\n",
    "\n",
    "loss = torch.nn.CrossEntropyLoss()\n",
    "\n",
    "# Training loop\n",
    "num_epochs = 1\n",
    "batch_size = 64\n",
    "\n",
    "train_loader = create_batches(dataset['train'], batch_size)\n",
    "scheduler = torch.optim.lr_scheduler.CosineAnnealingLR(optimizer, (len(dataset['train']) // batch_size) * num_epochs)\n",
    "\n",
    "for epoch in range(num_epochs):\n",
    "    semclip.model.train()\n",
    "    \n",
    "    pbar = tqdm(train_loader, total=len(dataset['train']) // batch_size, desc=f\"Epoch {epoch+1}/{num_epochs}\")\n",
    "\n",
    "    for batch in pbar:\n",
    "        optimizer.zero_grad()\n",
    "        \n",
    "        image_batch_pil = batch['downloaded_img']\n",
    "        text_batch = batch['caption']\n",
    "        \n",
    "        # Convert the batch of PIL images to OpenCV images\n",
    "        image_batch_cv2 = [pil_to_cv2(img) for img in image_batch_pil]\n",
    "\n",
    "        if DEVICE != \"cpu\":\n",
    "            convert_models_to_fp32(semclip.model)\n",
    "\n",
    "        # Forward pass through the model\n",
    "        try:\n",
    "            logits_per_image, logits_per_text = semclip.get_semclip_embeddings_direct_img(images=image_batch_cv2, captions=text_batch)\n",
    "        except:\n",
    "            print(f\"error, images batch being processed: {batch['image']}\")\n",
    "            \n",
    "        # Compute the loss\n",
    "        ground_truth = torch.arange(batch_size).to(DEVICE)\n",
    "        logits_per_image.requires_grad_()\n",
    "        logits_per_text.requires_grad_()\n",
    "        total_loss = (loss(logits_per_image, ground_truth) + loss(logits_per_text, ground_truth)) / 2\n",
    "\n",
    "        # Backward pass\n",
    "        total_loss.backward()\n",
    "        \n",
    "        # if the device is CPU, directly update the model\n",
    "        if DEVICE == \"cpu\":\n",
    "            optimizer.step()\n",
    "            scheduler.step()\n",
    "        else:\n",
    "            convert_models_to_fp32(semclip.model)\n",
    "            optimizer.step()\n",
    "            scheduler.step()\n",
    "            convert_models_to_fp16(semclip.model)\n",
    "        \n",
    "        # Update the progress bar with the current loss\n",
    "        pbar.set_postfix(Loss=total_loss.item())\n"
   ]
  },
  {
   "cell_type": "code",
   "execution_count": null,
   "metadata": {},
   "outputs": [],
   "source": [
    "semclip.model = model\n",
    "\n",
    "semclip.upload_model_to_hf_hub(model_name='semclip-v1', hf_name='hunarbatra')"
   ]
  },
  {
   "cell_type": "code",
   "execution_count": null,
   "metadata": {},
   "outputs": [],
   "source": []
  }
 ],
 "metadata": {
  "kernelspec": {
   "display_name": "Python 3 (ipykernel)",
   "language": "python",
   "name": "python3"
  },
  "language_info": {
   "codemirror_mode": {
    "name": "ipython",
    "version": 3
   },
   "file_extension": ".py",
   "mimetype": "text/x-python",
   "name": "python",
   "nbconvert_exporter": "python",
   "pygments_lexer": "ipython3",
   "version": "3.11.4"
  }
 },
 "nbformat": 4,
 "nbformat_minor": 4
}
