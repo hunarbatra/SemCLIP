{
 "cells": [
  {
   "cell_type": "code",
   "execution_count": 1,
   "metadata": {},
   "outputs": [
    {
     "name": "stdout",
     "output_type": "stream",
     "text": [
      "/Users/hunarbatra/Hunar/oxford/dphil/svt-llava\n"
     ]
    },
    {
     "name": "stderr",
     "output_type": "stream",
     "text": [
      "/Users/hunarbatra/Hunar/oxford/dphil/svt-llava/svt-llava-env/lib/python3.11/site-packages/IPython/core/magics/osm.py:417: UserWarning: This is now an optional IPython functionality, setting dhist requires you to install the `pickleshare` library.\n",
      "  self.shell.db['dhist'] = compress_dhist(dhist)[-100:]\n"
     ]
    }
   ],
   "source": [
    "%cd .."
   ]
  },
  {
   "cell_type": "code",
   "execution_count": 2,
   "metadata": {},
   "outputs": [],
   "source": [
    "from SemCLIP.semclip import SemCLIP\n",
    "from SemCLIP.image_utils import DEVICE\n",
    "\n",
    "semclip = SemCLIP(model_name=\"openai/clip-vit-base-patch32\", pool_type='attention', projection_dim=512, device=DEVICE)"
   ]
  },
  {
   "cell_type": "code",
   "execution_count": 3,
   "metadata": {},
   "outputs": [],
   "source": [
    "import torch\n",
    "\n",
    "from torch.utils.data import Dataset, DataLoader\n",
    "from datasets import load_dataset\n",
    "\n",
    "dataset = load_dataset(\"hunarbatra/CLIP-LLaVA-Instruct-COCO-13k\")"
   ]
  },
  {
   "cell_type": "markdown",
   "metadata": {},
   "source": [
    "## Download Data Files"
   ]
  },
  {
   "cell_type": "code",
   "execution_count": 17,
   "metadata": {},
   "outputs": [
    {
     "data": {
      "application/vnd.jupyter.widget-view+json": {
       "model_id": "76e027d9a587486d9a2db86aa44b7635",
       "version_major": 2,
       "version_minor": 0
      },
      "text/plain": [
       "Map (num_proc=8):   0%|          | 0/13430 [00:00<?, ? examples/s]"
      ]
     },
     "metadata": {},
     "output_type": "display_data"
    },
    {
     "data": {
      "application/vnd.jupyter.widget-view+json": {
       "model_id": "cda86b98f1a44d08bc93091ca1f112e2",
       "version_major": 2,
       "version_minor": 0
      },
      "text/plain": [
       "Map (num_proc=8):   0%|          | 0/3365 [00:00<?, ? examples/s]"
      ]
     },
     "metadata": {},
     "output_type": "display_data"
    }
   ],
   "source": [
    "import os\n",
    "import requests\n",
    "from datasets import load_dataset\n",
    "\n",
    "\n",
    "dataset = load_dataset(\"hunarbatra/CLIP-LLaVA-Instruct-COCO-13k\")\n",
    "dataset = dataset.remove_columns(\"downloaded_img\")\n",
    "\n",
    "save_dir = \"data/CLIP-LLaVA-Instruct-COCO-13k/\"\n",
    "\n",
    "os.makedirs(save_dir, exist_ok=True)\n",
    "\n",
    "def download_image(record):\n",
    "    url = record['coco_url']\n",
    "    file_name = os.path.join(save_dir, f\"{record['image']}\")\n",
    "    try:\n",
    "        response = requests.get(url, stream=True)\n",
    "        if response.status_code == 200:\n",
    "            with open(file_name, 'wb') as f:\n",
    "                for chunk in response.iter_content(1024):\n",
    "                    f.write(chunk)\n",
    "        record['local_path'] = file_name\n",
    "    except Exception as e:\n",
    "        print(f\"Failed to download {url}: {e}\")\n",
    "        record['local_path'] = None\n",
    "    return record\n",
    "\n",
    "dataset = dataset.map(download_image, num_proc=8)\n",
    "\n",
    "# dataset.save_to_disk(\"CLIP-LLaVA-Instruct-COCO-13k-no-img\")\n"
   ]
  },
  {
   "cell_type": "markdown",
   "metadata": {},
   "source": [
    "## Finetune Model with local data/"
   ]
  },
  {
   "cell_type": "code",
   "execution_count": null,
   "metadata": {},
   "outputs": [],
   "source": [
    "import clip\n",
    "\n",
    "from tqdm import tqdm\n",
    "\n",
    "\n",
    "train_loader = DataLoader(dataset['train'], batch_size=64, shuffle=True)\n",
    "test_loader = DataLoader(dataset['validation'], batch_size=64, shuffle=True)\n",
    "\n",
    "model = semclip.model.to(DEVICE)\n",
    "processor = semclip.processor\n",
    "\n",
    "def convert_models_to_fp32(model): \n",
    "    for p in model.parameters(): \n",
    "        p.data = p.data.float() \n",
    "        p.grad.data = p.grad.data.float() \n",
    "        \n",
    "def create_batches(dataset, batch_size):\n",
    "    for i in range(0, len(dataset), batch_size):\n",
    "        yield dataset[i:i + batch_size]\n",
    "        \n",
    "if DEVICE == \"cpu\":\n",
    "    model.float() # convert the model params to float if using CPU\n",
    "    \n",
    "optimizer = torch.optim.AdamW(model.parameters(), lr=5e-5, betas=(0.9, 0.98), eps=1e-6, weight_decay=0.2) # weight decay adds L2 regularization to the optimizer\n",
    "\n",
    "loss = torch.nn.CrossEntropyLoss()\n",
    "\n",
    "# Training loop\n",
    "num_epochs = 1\n",
    "batch_size = 64\n",
    "data_dir = 'CLIP-LLaVA-Instruct-COCO-13k'\n",
    "\n",
    "for epoch in range(num_epochs):\n",
    "    model.train()\n",
    "    train_loader = create_batches(dataset['train'], batch_size)\n",
    "    \n",
    "    pbar = tqdm(train_loader, total=len(dataset['train']) // batch_size, desc=f\"Epoch {epoch+1}/{num_epochs}\")\n",
    "\n",
    "    for batch in pbar:\n",
    "        optimizer.zero_grad()\n",
    "        \n",
    "        image_batch = batch['image']\n",
    "        text_batch = batch['caption']\n",
    "        \n",
    "        # Forward pass through the model\n",
    "        with torch.no_grad():\n",
    "            logits_per_image, logits_per_text = semclip.get_semclip_embeddings(images=image_batch, captions=text_batch, images_folder=data_dir)\n",
    "            \n",
    "        # Compute the loss\n",
    "        ground_truth = torch.arange(len(image_batch), dtype=torch.long, device=DEVICE)\n",
    "        total_loss = (loss_img(logits_per_image, ground_truth) + loss_txt(logits_per_text, ground_truth)) / 2\n",
    "\n",
    "        # Backward pass\n",
    "        total_loss.backward()\n",
    "        \n",
    "        # if the device is CPU, directly update the model\n",
    "        if DEVICE == \"cpu\":\n",
    "            optimizer.step()\n",
    "        else:\n",
    "            convert_models_to_fp32(model)\n",
    "            optimizer.step()\n",
    "            clip.model.convert_weights(model)\n",
    "        \n",
    "        # Update the progress bar with the current loss\n",
    "        pbar.set_postfix(Loss=total_loss.item())\n"
   ]
  },
  {
   "cell_type": "markdown",
   "metadata": {},
   "source": [
    "## Finetune Model without downloading images locally"
   ]
  },
  {
   "cell_type": "code",
   "execution_count": null,
   "metadata": {},
   "outputs": [],
   "source": [
    "import clip\n",
    "\n",
    "from tqdm import tqdm\n",
    "\n",
    "from PIL import Image\n",
    "import cv2\n",
    "import numpy as np\n",
    "\n",
    "model = semclip.model.to(DEVICE)\n",
    "\n",
    "def convert_models_to_fp32(model): \n",
    "    for p in model.parameters(): \n",
    "        p.data = p.data.float() \n",
    "        p.grad.data = p.grad.data.float() \n",
    "        \n",
    "def create_batches(dataset, batch_size):\n",
    "    for i in range(0, len(dataset), batch_size):\n",
    "        yield dataset[i:i + batch_size]\n",
    "        \n",
    "def pil_to_cv2(pil_image):\n",
    "    open_cv_image = np.array(pil_image) \n",
    "    # Convert RGB to BGR \n",
    "    open_cv_image = open_cv_image[:, :, ::-1].copy()\n",
    "    return open_cv_image\n",
    "        \n",
    "if DEVICE == \"cpu\":\n",
    "    model.float() # convert the model params to float if using CPU\n",
    "    \n",
    "optimizer = torch.optim.AdamW(model.parameters(), lr=5e-5, betas=(0.9, 0.98), eps=1e-6, weight_decay=0.2) # weight decay adds L2 regularization to the optimizer\n",
    "\n",
    "loss = torch.nn.CrossEntropyLoss()\n",
    "\n",
    "# Training loop\n",
    "num_epochs = 1\n",
    "batch_size = 64\n",
    "# data_dir = 'CLIP-LLaVA-Instruct-COCO-13k'\n",
    "\n",
    "for epoch in range(num_epochs):\n",
    "    model.train()\n",
    "    train_loader = create_batches(dataset['train'], batch_size)\n",
    "    \n",
    "    pbar = tqdm(train_loader, total=len(dataset['train']) // batch_size, desc=f\"Epoch {epoch+1}/{num_epochs}\")\n",
    "\n",
    "    for batch in pbar:\n",
    "        optimizer.zero_grad()\n",
    "        \n",
    "        image_batch_pil = batch['downloaded_img']\n",
    "        text_batch = batch['caption']\n",
    "        \n",
    "        # Convert the batch of PIL images to OpenCV images\n",
    "        image_batch_cv2 = [pil_to_cv2(img) for img in image_batch_pil]\n",
    "        \n",
    "        # Forward pass through the model\n",
    "        with torch.no_grad():\n",
    "            logits_per_image, logits_per_text = semclip.get_semclip_embeddings_direct_img(images=image_batch_cv2, captions=text_batch)\n",
    "            \n",
    "        # Compute the loss\n",
    "        ground_truth = torch.arange(len(image_batch), dtype=torch.long, device=DEVICE)\n",
    "        total_loss = (loss_img(logits_per_image, ground_truth) + loss_txt(logits_per_text, ground_truth)) / 2\n",
    "\n",
    "        # Backward pass\n",
    "        total_loss.backward()\n",
    "        \n",
    "        # if the device is CPU, directly update the model\n",
    "        if DEVICE == \"cpu\":\n",
    "            optimizer.step()\n",
    "        else:\n",
    "            convert_models_to_fp32(model)\n",
    "            optimizer.step()\n",
    "            clip.model.convert_weights(model)\n",
    "        \n",
    "        # Update the progress bar with the current loss\n",
    "        pbar.set_postfix(Loss=total_loss.item())\n"
   ]
  },
  {
   "cell_type": "code",
   "execution_count": null,
   "metadata": {},
   "outputs": [],
   "source": [
    "semclip.model = model\n",
    "\n",
    "semclip.upload_model_to_hf_hub(model_name='semclip-v1', hf_name='hunarbatra')"
   ]
  }
 ],
 "metadata": {
  "kernelspec": {
   "display_name": "svt-llava-env",
   "language": "python",
   "name": "python3"
  },
  "language_info": {
   "codemirror_mode": {
    "name": "ipython",
    "version": 3
   },
   "file_extension": ".py",
   "mimetype": "text/x-python",
   "name": "python",
   "nbconvert_exporter": "python",
   "pygments_lexer": "ipython3",
   "version": "3.11.4"
  }
 },
 "nbformat": 4,
 "nbformat_minor": 2
}
