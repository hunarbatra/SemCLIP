{
 "cells": [
  {
   "cell_type": "code",
   "execution_count": 1,
   "metadata": {},
   "outputs": [
    {
     "name": "stdout",
     "output_type": "stream",
     "text": [
      "/scratch/hb2546/dphil-svt/SemCLIP\n"
     ]
    }
   ],
   "source": [
    "%cd .."
   ]
  },
  {
   "cell_type": "code",
   "execution_count": 2,
   "metadata": {
    "scrolled": true
   },
   "outputs": [],
   "source": [
    "# !pip3 install -r requirements.txt\n",
    "# !pip3 install supervision torch tqdm fire datasets opencv-python openai-clip huggingface-hub torch python-dotenv clip torchvision Pillow pandas numpy matplotlib transformers\n",
    "# !pip install --upgrade notebook\n",
    "# !pip install --upgrade ipywidgets\n",
    "# !jupyter nbextension enable --py widgetsnbextension"
   ]
  },
  {
   "cell_type": "code",
   "execution_count": 3,
   "metadata": {},
   "outputs": [],
   "source": [
    "# !bash sam_model_setup.sh\n",
    "# !pip3 install -q 'git+https://github.com/facebookresearch/segment-anything.git'"
   ]
  },
  {
   "cell_type": "code",
   "execution_count": 4,
   "metadata": {
    "scrolled": true
   },
   "outputs": [
    {
     "name": "stderr",
     "output_type": "stream",
     "text": [
      "FutureWarning: `resume_download` is deprecated and will be removed in version 1.0.0. Downloads always resume when possible. If you want to force a new download, use `force_download=True`.\n"
     ]
    }
   ],
   "source": [
    "from SemCLIP.semclip import SemCLIP\n",
    "from SemCLIP.image_utils import DEVICE, create_batches, pil_to_cv2\n",
    "from SemCLIP.model_utils import convert_models_to_fp32, convert_models_to_fp16\n",
    "\n",
    "\n",
    "semclip = SemCLIP(model_name=\"openai/clip-vit-base-patch32\", pool_type='attention', projection_dim=512, device=DEVICE)"
   ]
  },
  {
   "cell_type": "code",
   "execution_count": 5,
   "metadata": {},
   "outputs": [],
   "source": [
    "import torch\n",
    "\n",
    "from torch.utils.data import Dataset, DataLoader\n",
    "from datasets import load_dataset\n",
    "\n",
    "dataset = load_dataset(\"hunarbatra/CLIP-LLaVA-Instruct-COCO-13k\")"
   ]
  },
  {
   "cell_type": "markdown",
   "metadata": {
    "jp-MarkdownHeadingCollapsed": true
   },
   "source": [
    "## Download Data Files Locally [Not required to run]"
   ]
  },
  {
   "cell_type": "code",
   "execution_count": 17,
   "metadata": {},
   "outputs": [
    {
     "data": {
      "application/vnd.jupyter.widget-view+json": {
       "model_id": "76e027d9a587486d9a2db86aa44b7635",
       "version_major": 2,
       "version_minor": 0
      },
      "text/plain": [
       "Map (num_proc=8):   0%|          | 0/13430 [00:00<?, ? examples/s]"
      ]
     },
     "metadata": {},
     "output_type": "display_data"
    },
    {
     "data": {
      "application/vnd.jupyter.widget-view+json": {
       "model_id": "cda86b98f1a44d08bc93091ca1f112e2",
       "version_major": 2,
       "version_minor": 0
      },
      "text/plain": [
       "Map (num_proc=8):   0%|          | 0/3365 [00:00<?, ? examples/s]"
      ]
     },
     "metadata": {},
     "output_type": "display_data"
    }
   ],
   "source": [
    "import os\n",
    "import requests\n",
    "from datasets import load_dataset\n",
    "\n",
    "\n",
    "dataset = load_dataset(\"hunarbatra/CLIP-LLaVA-Instruct-COCO-13k\")\n",
    "dataset = dataset.remove_columns(\"downloaded_img\")\n",
    "\n",
    "save_dir = \"data/CLIP-LLaVA-Instruct-COCO-13k/\"\n",
    "\n",
    "os.makedirs(save_dir, exist_ok=True)\n",
    "\n",
    "def download_image(record):\n",
    "    url = record['coco_url']\n",
    "    file_name = os.path.join(save_dir, f\"{record['image']}\")\n",
    "    try:\n",
    "        response = requests.get(url, stream=True)\n",
    "        if response.status_code == 200:\n",
    "            with open(file_name, 'wb') as f:\n",
    "                for chunk in response.iter_content(1024):\n",
    "                    f.write(chunk)\n",
    "        record['local_path'] = file_name\n",
    "    except Exception as e:\n",
    "        print(f\"Failed to download {url}: {e}\")\n",
    "        record['local_path'] = None\n",
    "    return record\n",
    "\n",
    "dataset = dataset.map(download_image, num_proc=8)\n",
    "\n",
    "# dataset.save_to_disk(\"CLIP-LLaVA-Instruct-COCO-13k-no-img\")\n"
   ]
  },
  {
   "cell_type": "markdown",
   "metadata": {
    "jp-MarkdownHeadingCollapsed": true
   },
   "source": [
    "## Finetune Model with local data/ [Not required to run - only if data/ files are local]"
   ]
  },
  {
   "cell_type": "code",
   "execution_count": null,
   "metadata": {},
   "outputs": [],
   "source": [
    "import cv2\n",
    "import numpy as np\n",
    "import clip\n",
    "import torch\n",
    "import torch.nn as nn\n",
    "from tqdm import tqdm\n",
    "from PIL import Image\n",
    "\n",
    "\n",
    "semclip.model.to(DEVICE)\n",
    "\n",
    "if DEVICE == \"cpu\":\n",
    "    semclip.model.float() # convert the model params to float if using CPU\n",
    "\n",
    "optimizer = torch.optim.Adam(semclip.model.parameters(), lr=1e-5)\n",
    "\n",
    "loss = torch.nn.CrossEntropyLoss()\n",
    "\n",
    "# Training loop\n",
    "num_epochs = 1\n",
    "batch_size = 64\n",
    "data_dir = 'CLIP-LLaVA-Instruct-COCO-13k'\n",
    "\n",
    "for epoch in range(num_epochs):\n",
    "    semclip.model.train()\n",
    "    train_loader = create_batches(dataset['train'], batch_size)\n",
    "    \n",
    "    pbar = tqdm(train_loader, total=len(dataset['train']) // batch_size, desc=f\"Epoch {epoch+1}/{num_epochs}\")\n",
    "\n",
    "    for batch in pbar:\n",
    "        optimizer.zero_grad()\n",
    "        \n",
    "        image_batch = batch['image']\n",
    "        text_batch = batch['caption']\n",
    "        \n",
    "        if DEVICE != \"cpu\":\n",
    "            convert_models_to_fp32(semclip.model)\n",
    "            \n",
    "        # Forward pass through the model\n",
    "        logits_per_image, logits_per_text = semclip.get_semclip_embeddings(images=image_batch, captions=text_batch, images_folder=data_dir)\n",
    "            \n",
    "        # Compute the loss\n",
    "        ground_truth = torch.arange(len(image_batch), dtype=torch.long).to(DEVICE)\n",
    "        logits_per_image.requires_grad_()\n",
    "        logits_per_text.requires_grad_()\n",
    "        total_loss = (loss(logits_per_image, ground_truth) + loss(logits_per_text, ground_truth)) / 2\n",
    "\n",
    "        # Backward pass\n",
    "        total_loss.backward()\n",
    "        \n",
    "        # if the device is CPU, directly update the model\n",
    "        if DEVICE == \"cpu\":\n",
    "            optimizer.step()\n",
    "            scheduler.step()\n",
    "        else:\n",
    "            convert_models_to_fp32(semclip.model)\n",
    "            optimizer.step()\n",
    "            scheduler.step()\n",
    "            convert_models_to_fp16(semclip.model)\n",
    "        \n",
    "        # Update the progress bar with the current loss\n",
    "        pbar.set_postfix(Loss=total_loss.item())"
   ]
  },
  {
   "cell_type": "markdown",
   "metadata": {},
   "source": [
    "## Finetune Model without downloading images locally [with HF data]"
   ]
  },
  {
   "cell_type": "code",
   "execution_count": 7,
   "metadata": {},
   "outputs": [
    {
     "name": "stderr",
     "output_type": "stream",
     "text": [
      "Epoch 1/1:   0%|          | 0/209 [00:00<?, ?it/s]"
     ]
    },
    {
     "name": "stdout",
     "output_type": "stream",
     "text": [
      "0\n",
      "1\n",
      "2\n",
      "3\n",
      "4\n",
      "5\n",
      "6\n",
      "7\n",
      "8\n",
      "9\n",
      "10\n",
      "11\n",
      "12\n",
      "13\n",
      "14\n",
      "15\n",
      "16\n",
      "17\n",
      "18\n",
      "19\n",
      "20\n",
      "21\n",
      "22\n",
      "23\n",
      "24\n",
      "25\n",
      "26\n",
      "27\n",
      "28\n",
      "29\n",
      "30\n",
      "31\n",
      "32\n",
      "33\n",
      "34\n",
      "35\n",
      "36\n",
      "37\n",
      "38\n",
      "39\n",
      "40\n",
      "41\n",
      "42\n",
      "43\n",
      "44\n",
      "45\n",
      "46\n",
      "47\n",
      "48\n",
      "49\n",
      "50\n",
      "51\n",
      "52\n",
      "53\n",
      "54\n",
      "55\n",
      "56\n",
      "57\n",
      "58\n",
      "59\n",
      "60\n",
      "61\n",
      "62\n",
      "63\n"
     ]
    },
    {
     "name": "stderr",
     "output_type": "stream",
     "text": [
      "Epoch 1/1:   0%|          | 1/209 [03:02<10:32:47, 182.54s/it, Loss=6.26]\n"
     ]
    },
    {
     "ename": "IndexError",
     "evalue": "too many indices for array: array is 2-dimensional, but 3 were indexed",
     "output_type": "error",
     "traceback": [
      "\u001b[0;31m---------------------------------------------------------------------------\u001b[0m",
      "\u001b[0;31mIndexError\u001b[0m                                Traceback (most recent call last)",
      "Cell \u001b[0;32mIn[7], line 41\u001b[0m\n\u001b[1;32m     38\u001b[0m text_batch \u001b[38;5;241m=\u001b[39m batch[\u001b[38;5;124m'\u001b[39m\u001b[38;5;124mcaption\u001b[39m\u001b[38;5;124m'\u001b[39m]\n\u001b[1;32m     40\u001b[0m \u001b[38;5;66;03m# Convert the batch of PIL images to OpenCV images\u001b[39;00m\n\u001b[0;32m---> 41\u001b[0m image_batch_cv2 \u001b[38;5;241m=\u001b[39m [pil_to_cv2(img) \u001b[38;5;28;01mfor\u001b[39;00m img \u001b[38;5;129;01min\u001b[39;00m image_batch_pil]\n\u001b[1;32m     43\u001b[0m \u001b[38;5;28;01mif\u001b[39;00m DEVICE \u001b[38;5;241m!=\u001b[39m \u001b[38;5;124m\"\u001b[39m\u001b[38;5;124mcpu\u001b[39m\u001b[38;5;124m\"\u001b[39m:\n\u001b[1;32m     44\u001b[0m     convert_models_to_fp32(semclip\u001b[38;5;241m.\u001b[39mmodel)\n",
      "Cell \u001b[0;32mIn[7], line 41\u001b[0m, in \u001b[0;36m<listcomp>\u001b[0;34m(.0)\u001b[0m\n\u001b[1;32m     38\u001b[0m text_batch \u001b[38;5;241m=\u001b[39m batch[\u001b[38;5;124m'\u001b[39m\u001b[38;5;124mcaption\u001b[39m\u001b[38;5;124m'\u001b[39m]\n\u001b[1;32m     40\u001b[0m \u001b[38;5;66;03m# Convert the batch of PIL images to OpenCV images\u001b[39;00m\n\u001b[0;32m---> 41\u001b[0m image_batch_cv2 \u001b[38;5;241m=\u001b[39m [pil_to_cv2(img) \u001b[38;5;28;01mfor\u001b[39;00m img \u001b[38;5;129;01min\u001b[39;00m image_batch_pil]\n\u001b[1;32m     43\u001b[0m \u001b[38;5;28;01mif\u001b[39;00m DEVICE \u001b[38;5;241m!=\u001b[39m \u001b[38;5;124m\"\u001b[39m\u001b[38;5;124mcpu\u001b[39m\u001b[38;5;124m\"\u001b[39m:\n\u001b[1;32m     44\u001b[0m     convert_models_to_fp32(semclip\u001b[38;5;241m.\u001b[39mmodel)\n",
      "File \u001b[0;32m/scratch/hb2546/dphil-svt/SemCLIP/SemCLIP/image_utils.py:44\u001b[0m, in \u001b[0;36mpil_to_cv2\u001b[0;34m(pil_image)\u001b[0m\n\u001b[1;32m     42\u001b[0m open_cv_image \u001b[38;5;241m=\u001b[39m np\u001b[38;5;241m.\u001b[39marray(pil_image)\n\u001b[1;32m     43\u001b[0m \u001b[38;5;66;03m# Convert RGB to BGR\u001b[39;00m\n\u001b[0;32m---> 44\u001b[0m open_cv_image \u001b[38;5;241m=\u001b[39m open_cv_image[:, :, ::\u001b[38;5;241m-\u001b[39m\u001b[38;5;241m1\u001b[39m]\u001b[38;5;241m.\u001b[39mcopy()\n\u001b[1;32m     45\u001b[0m \u001b[38;5;28;01mreturn\u001b[39;00m open_cv_image\n",
      "\u001b[0;31mIndexError\u001b[0m: too many indices for array: array is 2-dimensional, but 3 were indexed"
     ]
    }
   ],
   "source": [
    "import cv2\n",
    "import numpy as np\n",
    "import clip\n",
    "import torch\n",
    "\n",
    "import torch.nn as nn\n",
    "\n",
    "from tqdm import tqdm\n",
    "from PIL import Image\n",
    "\n",
    "\n",
    "semclip.model.to(DEVICE)\n",
    "\n",
    "if DEVICE == \"cpu\":\n",
    "    semclip.model.float() # convert the model params to float if using CPU\n",
    "\n",
    "# optimizer = torch.optim.AdamW(semclip.model.parameters(), lr=5e-5, betas=(0.9, 0.98), eps=1e-6, weight_decay=0.2) # weight decay adds L2 regularization to the optimizer\n",
    "optimizer = torch.optim.Adam(semclip.model.parameters(), lr=1e-5)\n",
    "\n",
    "loss = torch.nn.CrossEntropyLoss()\n",
    "\n",
    "# Training loop\n",
    "num_epochs = 1\n",
    "batch_size = 64\n",
    "\n",
    "train_loader = create_batches(dataset['train'], batch_size)\n",
    "scheduler = torch.optim.lr_scheduler.CosineAnnealingLR(optimizer, (len(dataset['train']) // batch_size) * num_epochs)\n",
    "\n",
    "for epoch in range(num_epochs):\n",
    "    semclip.model.train()\n",
    "    \n",
    "    pbar = tqdm(train_loader, total=len(dataset['train']) // batch_size, desc=f\"Epoch {epoch+1}/{num_epochs}\")\n",
    "\n",
    "    for batch in pbar:\n",
    "        optimizer.zero_grad()\n",
    "        \n",
    "        image_batch_pil = batch['downloaded_img']\n",
    "        text_batch = batch['caption']\n",
    "        \n",
    "        # Convert the batch of PIL images to OpenCV images\n",
    "        image_batch_cv2 = [pil_to_cv2(img) for img in image_batch_pil]\n",
    "\n",
    "        if DEVICE != \"cpu\":\n",
    "            convert_models_to_fp32(semclip.model)\n",
    "\n",
    "        # Forward pass through the model\n",
    "        logits_per_image, logits_per_text = semclip.get_semclip_embeddings_direct_img(images=image_batch_cv2, captions=text_batch)\n",
    "            \n",
    "        # Compute the loss\n",
    "        ground_truth = torch.arange(batch_size).to(DEVICE)\n",
    "        logits_per_image.requires_grad_()\n",
    "        logits_per_text.requires_grad_()\n",
    "        total_loss = (loss(logits_per_image, ground_truth) + loss(logits_per_text, ground_truth)) / 2\n",
    "\n",
    "        # Backward pass\n",
    "        total_loss.backward()\n",
    "        \n",
    "        # if the device is CPU, directly update the model\n",
    "        if DEVICE == \"cpu\":\n",
    "            optimizer.step()\n",
    "            scheduler.step()\n",
    "        else:\n",
    "            convert_models_to_fp32(semclip.model)\n",
    "            optimizer.step()\n",
    "            scheduler.step()\n",
    "            convert_models_to_fp16(semclip.model)\n",
    "        \n",
    "        # Update the progress bar with the current loss\n",
    "        pbar.set_postfix(Loss=total_loss.item())\n"
   ]
  },
  {
   "cell_type": "code",
   "execution_count": null,
   "metadata": {},
   "outputs": [],
   "source": [
    "semclip.model = model\n",
    "\n",
    "semclip.upload_model_to_hf_hub(model_name='semclip-v1', hf_name='hunarbatra')"
   ]
  },
  {
   "cell_type": "code",
   "execution_count": null,
   "metadata": {},
   "outputs": [],
   "source": []
  }
 ],
 "metadata": {
  "kernelspec": {
   "display_name": "Python 3 (ipykernel)",
   "language": "python",
   "name": "python3"
  },
  "language_info": {
   "codemirror_mode": {
    "name": "ipython",
    "version": 3
   },
   "file_extension": ".py",
   "mimetype": "text/x-python",
   "name": "python",
   "nbconvert_exporter": "python",
   "pygments_lexer": "ipython3",
   "version": "3.11.7"
  }
 },
 "nbformat": 4,
 "nbformat_minor": 4
}
