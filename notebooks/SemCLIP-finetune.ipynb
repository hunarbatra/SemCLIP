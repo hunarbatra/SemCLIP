{
 "cells": [
  {
   "cell_type": "code",
   "execution_count": 2,
   "metadata": {},
   "outputs": [
    {
     "name": "stdout",
     "output_type": "stream",
     "text": [
      "/Users/hunarbatra/Hunar/oxford/dphil/svt-llava\n"
     ]
    },
    {
     "name": "stderr",
     "output_type": "stream",
     "text": [
      "/Users/hunarbatra/Hunar/oxford/dphil/svt-llava/svt-llava-env/lib/python3.11/site-packages/IPython/core/magics/osm.py:417: UserWarning: This is now an optional IPython functionality, setting dhist requires you to install the `pickleshare` library.\n",
      "  self.shell.db['dhist'] = compress_dhist(dhist)[-100:]\n"
     ]
    }
   ],
   "source": [
    "%cd .."
   ]
  },
  {
   "cell_type": "code",
   "execution_count": 10,
   "metadata": {
    "scrolled": true
   },
   "outputs": [],
   "source": [
    "# !pip3 install -r requirements.txt\n",
    "# !pip3 install supervision torch tqdm fire datasets opencv-python openai-clip huggingface-hub torch python-dotenv clip torchvision Pillow pandas numpy matplotlib transformers\n",
    "# !pip install --upgrade notebook\n",
    "# !pip install --upgrade ipywidgets\n",
    "# !jupyter nbextension enable --py widgetsnbextension"
   ]
  },
  {
   "cell_type": "code",
   "execution_count": 11,
   "metadata": {},
   "outputs": [],
   "source": [
    "# !bash sam_model_setup.sh\n",
    "# !pip3 install -q 'git+https://github.com/facebookresearch/segment-anything.git'"
   ]
  },
  {
   "cell_type": "code",
   "execution_count": 3,
   "metadata": {
    "scrolled": true
   },
   "outputs": [],
   "source": [
    "from SemCLIP.semclip import SemCLIP\n",
    "from SemCLIP.image_utils import DEVICE, create_batches, pil_to_cv2\n",
    "from SemCLIP.model_utils import convert_models_to_fp32, convert_models_to_fp16\n",
    "\n",
    "\n",
    "semclip = SemCLIP(model_name=\"openai/clip-vit-base-patch32\", pool_type='attention', projection_dim=512, device=DEVICE)"
   ]
  },
  {
   "cell_type": "code",
   "execution_count": 5,
   "metadata": {},
   "outputs": [],
   "source": [
    "import torch\n",
    "\n",
    "from torch.utils.data import Dataset, DataLoader\n",
    "from datasets import load_dataset\n",
    "\n",
    "from config import dataset_mapper\n",
    "\n",
    "dataset = load_dataset(dataset_mapper['COCO-13k'])"
   ]
  },
  {
   "cell_type": "markdown",
   "metadata": {},
   "source": [
    "## Download Data Files Locally [Not required to run]"
   ]
  },
  {
   "cell_type": "code",
   "execution_count": null,
   "metadata": {},
   "outputs": [
    {
     "data": {
      "application/vnd.jupyter.widget-view+json": {
       "model_id": "76e027d9a587486d9a2db86aa44b7635",
       "version_major": 2,
       "version_minor": 0
      },
      "text/plain": [
       "Map (num_proc=8):   0%|          | 0/13430 [00:00<?, ? examples/s]"
      ]
     },
     "metadata": {},
     "output_type": "display_data"
    },
    {
     "data": {
      "application/vnd.jupyter.widget-view+json": {
       "model_id": "cda86b98f1a44d08bc93091ca1f112e2",
       "version_major": 2,
       "version_minor": 0
      },
      "text/plain": [
       "Map (num_proc=8):   0%|          | 0/3365 [00:00<?, ? examples/s]"
      ]
     },
     "metadata": {},
     "output_type": "display_data"
    }
   ],
   "source": [
    "import os\n",
    "import requests\n",
    "from datasets import load_dataset\n",
    "\n",
    "\n",
    "dataset = load_dataset(\"hunarbatra/CLIP-LLaVA-Instruct-COCO-13k\")\n",
    "dataset = dataset.remove_columns(\"downloaded_img\")\n",
    "\n",
    "save_dir = \"data/CLIP-LLaVA-Instruct-COCO-13k/\"\n",
    "\n",
    "os.makedirs(save_dir, exist_ok=True)\n",
    "\n",
    "def download_image(record):\n",
    "    url = record['coco_url']\n",
    "    file_name = os.path.join(save_dir, f\"{record['image']}\")\n",
    "    try:\n",
    "        response = requests.get(url, stream=True)\n",
    "        if response.status_code == 200:\n",
    "            with open(file_name, 'wb') as f:\n",
    "                for chunk in response.iter_content(1024):\n",
    "                    f.write(chunk)\n",
    "        record['local_path'] = file_name\n",
    "    except Exception as e:\n",
    "        print(f\"Failed to download {url}: {e}\")\n",
    "        record['local_path'] = None\n",
    "    return record\n",
    "\n",
    "dataset = dataset.map(download_image, num_proc=8)\n",
    "\n",
    "# dataset.save_to_disk(\"CLIP-LLaVA-Instruct-COCO-13k-no-img\")\n"
   ]
  },
  {
   "cell_type": "markdown",
   "metadata": {},
   "source": [
    "## Finetune Model with local data/ [Not required to run - only if data/ files are local]"
   ]
  },
  {
   "cell_type": "code",
   "execution_count": null,
   "metadata": {},
   "outputs": [],
   "source": [
    "import cv2\n",
    "import numpy as np\n",
    "import torch\n",
    "import torch.nn as nn\n",
    "from tqdm import tqdm\n",
    "from PIL import Image\n",
    "\n",
    "\n",
    "semclip.model.to(DEVICE)\n",
    "\n",
    "if DEVICE == \"cpu\":\n",
    "    semclip.model.float() # convert the model params to float if using CPU\n",
    "\n",
    "optimizer = torch.optim.Adam(semclip.model.parameters(), lr=1e-5)\n",
    "\n",
    "loss = torch.nn.CrossEntropyLoss()\n",
    "\n",
    "# Training loop\n",
    "num_epochs = 1\n",
    "batch_size = 64\n",
    "data_dir = 'CLIP-LLaVA-Instruct-COCO-13k'\n",
    "\n",
    "for epoch in range(num_epochs):\n",
    "    semclip.model.train()\n",
    "    train_loader = create_batches(dataset['train'], batch_size)\n",
    "    \n",
    "    pbar = tqdm(train_loader, total=len(dataset['train']) // batch_size, desc=f\"Epoch {epoch+1}/{num_epochs}\")\n",
    "\n",
    "    for batch in pbar:\n",
    "        optimizer.zero_grad()\n",
    "        \n",
    "        image_batch = batch['image']\n",
    "        text_batch = batch['caption']\n",
    "        \n",
    "        if DEVICE != \"cpu\":\n",
    "            convert_models_to_fp32(semclip.model)\n",
    "            \n",
    "        # Forward pass through the model\n",
    "        try:\n",
    "            image_embeddings, text_embeddings = semclip.get_semclip_embeddings_direct_img(images=image_batch_cv2, captions=text_batch)\n",
    "        except Exception as e:\n",
    "            print(f\"error: {e}; images batch being processed: {batch['image']}\")\n",
    "            continue\n",
    "        \n",
    "        # Process final embeddings (normalize, compute logits)\n",
    "        logits_per_image, logits_per_text = semclip.process_final_embeddings(image_embeddings, text_embeddings)\n",
    "            \n",
    "        # Compute the loss\n",
    "        ground_truth = torch.arange(len(logits)).to(DEVICE)\n",
    "        text_loss = loss_fn(logits_per_text, ground_truth) # contrastive loss\n",
    "        image_loss = loss_fn(logits_per_text.t(), ground_truth) # contrastive loss\n",
    "        total_loss = (text_loss + image_loss) / 2.0\n",
    "            \n",
    "        # Backward pass\n",
    "        total_loss.backward()\n",
    "        \n",
    "        # if the device is CPU, directly update the model\n",
    "        if DEVICE == \"cpu\":\n",
    "            optimizer.step()\n",
    "        else:\n",
    "            convert_models_to_fp32(semclip.model)\n",
    "            optimizer.step()\n",
    "            convert_models_to_fp16(semclip.model)\n",
    "        \n",
    "        # Update the progress bar with the current loss\n",
    "        pbar.set_postfix(Loss=total_loss.item())"
   ]
  },
  {
   "cell_type": "markdown",
   "metadata": {},
   "source": [
    "## Finetune Model without downloading images locally [with HF data]"
   ]
  },
  {
   "cell_type": "code",
   "execution_count": 14,
   "metadata": {},
   "outputs": [
    {
     "name": "stderr",
     "output_type": "stream",
     "text": [
      "\u001b[34m\u001b[1mwandb\u001b[0m: \u001b[33mWARNING\u001b[0m Calling wandb.login() after wandb.init() has no effect.\n"
     ]
    },
    {
     "data": {
      "text/html": [
       "Finishing last run (ID:ovmlrtei) before initializing another..."
      ],
      "text/plain": [
       "<IPython.core.display.HTML object>"
      ]
     },
     "metadata": {},
     "output_type": "display_data"
    }
   ],
   "source": [
    "import os\n",
    "import cv2\n",
    "import torch\n",
    "import wandb\n",
    "\n",
    "import torch.nn as nn\n",
    "import numpy as np\n",
    "\n",
    "from tqdm import tqdm\n",
    "from PIL import Image\n",
    "\n",
    "\n",
    "wandb.login(key=os.getenv(\"WANDB_API_KEY\"))\n",
    "\n",
    "semclip.model.to(DEVICE)\n",
    "\n",
    "learning_rate = 1e-4 # huggingface trainer default lr\n",
    "betas = (0.9, 0.98) # huggingface trainer default betas\n",
    "epsilon = 1e-6 # huggingface trainer default epsilon\n",
    "weight_decay = 0.2 # L2 regularization - finetuning CLIP with a small dataset can lead to overfitting so we add L2 regularization # 0.001\n",
    "num_epochs = 1 # note: huggingface trainer default num_train_epochs = 3\n",
    "batch_size = 1\n",
    "\n",
    "wandb_config = {\n",
    "    \"learning_rate\": learning_rate,\n",
    "    \"betas\": betas,\n",
    "    \"epsilon\": epsilon,\n",
    "    \"weight_decay\": weight_decay,\n",
    "    \"num_epochs\": num_epochs,\n",
    "    \"batch_size\": batch_size,\n",
    "}\n",
    "\n",
    "if DEVICE == \"cpu\":\n",
    "    semclip.model.float() # convert the model params to float if using CPU\n",
    "\n",
    "optimizer = torch.optim.AdamW(semclip.model.parameters(), lr=learning_rate, betas=betas, eps=epsilon, weight_decay=weight_decay)\n",
    "\n",
    "loss_fn = torch.nn.CrossEntropyLoss()\n",
    "\n",
    "train_loader = create_batches(dataset['train'], batch_size)\n",
    "\n",
    "resume_training = False\n",
    "train_name = 'semclip-v1-test'\n",
    "checkpoint_dir = \"model_ckpts\"\n",
    "os.makedirs(checkpoint_dir, exist_ok=True)\n",
    "checkpoint_path = os.path.join(checkpoint_dir, f\"{train_name}_checkpoint.pth\")\n",
    "\n",
    "start_epoch = 0\n",
    "start_batch = 0\n",
    "wandb_run_id = None\n",
    "\n",
    "if resume_training and os.path.exists(checkpoint_path):\n",
    "    checkpoint = torch.load(checkpoint_path, map_location=DEVICE)\n",
    "    semclip.model.load_state_dict(checkpoint['model_state_dict'])\n",
    "    optimizer.load_state_dict(checkpoint['optimizer_state_dict'])\n",
    "    start_epoch = checkpoint['epoch']\n",
    "    start_batch = checkpoint['batch'] + 1\n",
    "    wandb_run_id = checkpoint['wandb_run_id']\n",
    "    print(f\"Resuming training from epoch {start_epoch}, batch {start_batch}\")\n",
    "    \n",
    "if wandb_run_id:\n",
    "    wandb.init(project=\"semclip\", name=train_name, id=wandb_run_id, resume=\"must\", config=wandb_config)\n",
    "else:\n",
    "    wandb_run = wandb.init(project=\"semclip\", name=train_name, config=wandb_config)\n",
    "    wandb_run_id = wandb_run.id\n",
    "\n",
    "for epoch in range(start_epoch, num_epochs):\n",
    "    semclip.model.train()\n",
    "    \n",
    "    pbar = tqdm(train_loader, total=len(dataset['train']) // batch_size, desc=f\"Epoch {epoch+1}/{num_epochs}\")\n",
    "\n",
    "    for batch_idx, batch in enumerate(pbar):\n",
    "        if epoch == start_epoch and batch_idx < start_batch:\n",
    "            continue  # Skip batches already processed in the current epoch if resuming\n",
    "        \n",
    "        optimizer.zero_grad()\n",
    "        \n",
    "        image_batch_pil = batch['downloaded_img']\n",
    "        text_batch = batch['caption']\n",
    "        \n",
    "        # Convert the batch of PIL images to OpenCV images\n",
    "        image_batch_cv2 = [pil_to_cv2(img) for img in image_batch_pil]\n",
    "        \n",
    "        if DEVICE != \"cpu\":\n",
    "            convert_models_to_fp32(semclip.model)\n",
    "\n",
    "        # Forward pass through the model\n",
    "        try:\n",
    "            image_embeddings, text_embeddings = semclip.get_semclip_embeddings_direct_img(images=image_batch_cv2, captions=text_batch)\n",
    "        except Exception as e:\n",
    "            print(f\"error: {e}; images batch being processed: {batch['image']}\")\n",
    "            continue\n",
    "        \n",
    "        # Process final embeddings (normalize, compute logits)\n",
    "        logits_per_image, logits_per_text = semclip.process_final_embeddings(image_embeddings, text_embeddings)\n",
    "            \n",
    "        # Compute the loss\n",
    "        # ground_truth = torch.arange(len(logits_per_text)).to(DEVICE)\n",
    "        ground_truth = torch.arange(batch_size).to(DEVICE)\n",
    "        text_loss = loss_fn(logits_per_text, ground_truth) # contrastive loss\n",
    "        image_loss = loss_fn(logits_per_text.t(), ground_truth) # contrastive loss\n",
    "        total_loss = (text_loss + image_loss) / 2.0\n",
    "            \n",
    "        # Backward pass\n",
    "        total_loss.backward()\n",
    "        \n",
    "        # if the device is CPU, directly update the model\n",
    "        if DEVICE == \"cpu\":\n",
    "            optimizer.step()\n",
    "        else:\n",
    "            convert_models_to_fp32(semclip.model)\n",
    "            optimizer.step()\n",
    "            convert_models_to_fp16(semclip.model)\n",
    "        \n",
    "        # Save checkpoint after each batch\n",
    "        print(f'Saving checkpoint at... {checkpoint_path}')\n",
    "        torch.save({\n",
    "            'epoch': epoch,\n",
    "            'batch': batch_idx,\n",
    "            'model_state_dict': semclip.model.state_dict(),\n",
    "            'optimizer_state_dict': optimizer.state_dict(),\n",
    "            'wandb_run_id': wandb_run_id,\n",
    "        }, checkpoint_path)\n",
    "        \n",
    "        # Log the loss to wandb after each batch\n",
    "        wandb.log({\"Loss\": total_loss.item()})\n",
    "        \n",
    "        # Update the progress bar with the current loss\n",
    "        pbar.set_postfix(Loss=total_loss.item())\n"
   ]
  },
  {
   "cell_type": "code",
   "execution_count": null,
   "metadata": {},
   "outputs": [],
   "source": [
    "semclip.upload_model_to_hf_hub(model_name=train_name, hf_name='hunarbatra')"
   ]
  }
 ],
 "metadata": {
  "kernelspec": {
   "display_name": "Python 3 (ipykernel)",
   "language": "python",
   "name": "python3"
  },
  "language_info": {
   "codemirror_mode": {
    "name": "ipython",
    "version": 3
   },
   "file_extension": ".py",
   "mimetype": "text/x-python",
   "name": "python",
   "nbconvert_exporter": "python",
   "pygments_lexer": "ipython3",
   "version": "3.11.4"
  }
 },
 "nbformat": 4,
 "nbformat_minor": 4
}
